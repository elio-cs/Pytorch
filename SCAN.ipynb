{
  "nbformat": 4,
  "nbformat_minor": 0,
  "metadata": {
    "colab": {
      "name": "SCAN.ipynb",
      "provenance": [],
      "collapsed_sections": [],
      "authorship_tag": "ABX9TyPR9fyB4NAJtg2zIcsiq9NT",
      "include_colab_link": true
    },
    "kernelspec": {
      "name": "python3",
      "display_name": "Python 3"
    },
    "language_info": {
      "name": "python"
    },
    "accelerator": "GPU"
  },
  "cells": [
    {
      "cell_type": "markdown",
      "metadata": {
        "id": "view-in-github",
        "colab_type": "text"
      },
      "source": [
        "<a href=\"https://colab.research.google.com/github/elio-cs/Pytorch/blob/main/SCAN.ipynb\" target=\"_parent\"><img src=\"https://colab.research.google.com/assets/colab-badge.svg\" alt=\"Open In Colab\"/></a>"
      ]
    },
    {
      "cell_type": "code",
      "source": [
        "!nvidia-smi"
      ],
      "metadata": {
        "colab": {
          "base_uri": "https://localhost:8080/"
        },
        "id": "XGYRfM8hkhxP",
        "outputId": "38feb46a-3f8e-43b1-c3f2-6586c81e3653"
      },
      "execution_count": null,
      "outputs": [
        {
          "output_type": "stream",
          "name": "stdout",
          "text": [
            "Mon Apr 25 08:54:46 2022       \n",
            "+-----------------------------------------------------------------------------+\n",
            "| NVIDIA-SMI 460.32.03    Driver Version: 460.32.03    CUDA Version: 11.2     |\n",
            "|-------------------------------+----------------------+----------------------+\n",
            "| GPU  Name        Persistence-M| Bus-Id        Disp.A | Volatile Uncorr. ECC |\n",
            "| Fan  Temp  Perf  Pwr:Usage/Cap|         Memory-Usage | GPU-Util  Compute M. |\n",
            "|                               |                      |               MIG M. |\n",
            "|===============================+======================+======================|\n",
            "|   0  Tesla P100-PCIE...  Off  | 00000000:00:04.0 Off |                    0 |\n",
            "| N/A   33C    P0    27W / 250W |      0MiB / 16280MiB |      0%      Default |\n",
            "|                               |                      |                  N/A |\n",
            "+-------------------------------+----------------------+----------------------+\n",
            "                                                                               \n",
            "+-----------------------------------------------------------------------------+\n",
            "| Processes:                                                                  |\n",
            "|  GPU   GI   CI        PID   Type   Process name                  GPU Memory |\n",
            "|        ID   ID                                                   Usage      |\n",
            "|=============================================================================|\n",
            "|  No running processes found                                                 |\n",
            "+-----------------------------------------------------------------------------+\n"
          ]
        }
      ]
    },
    {
      "cell_type": "code",
      "source": [
        "from google.colab import drive\n",
        "drive.mount('/content/drive')"
      ],
      "metadata": {
        "colab": {
          "base_uri": "https://localhost:8080/"
        },
        "id": "k5JLQT1Do3z-",
        "outputId": "418cb0b3-48ad-436e-f4a6-3568927493c7"
      },
      "execution_count": null,
      "outputs": [
        {
          "output_type": "stream",
          "name": "stdout",
          "text": [
            "Mounted at /content/drive\n"
          ]
        }
      ]
    },
    {
      "cell_type": "markdown",
      "source": [
        "# Preprocess"
      ],
      "metadata": {
        "id": "kaHDdZ4mrT7j"
      }
    },
    {
      "cell_type": "code",
      "source": [
        "\"\"\"\n",
        "\n",
        "|- root_dir               -> FODB/\n",
        "   |- dir                 -> FODB/D01_Motorola_E3_1/\n",
        "      |- sub_dir          -> FODB/D01_Motorola_E3_1/orig/\n",
        "         |- image         -> FODB/D01_Motorola_E3_1/orig/D01_img_orig_0001.jpg\n",
        "         |- ...\n",
        "      |- ...\n",
        "   |- ...\n",
        "\n",
        "\"\"\""
      ],
      "metadata": {
        "colab": {
          "base_uri": "https://localhost:8080/",
          "height": 71
        },
        "id": "FmHav_KoVC9N",
        "outputId": "9ab3ecd4-e14a-4286-9fcc-ce59d4e54251"
      },
      "execution_count": null,
      "outputs": [
        {
          "output_type": "execute_result",
          "data": {
            "text/plain": [
              "'\\n\\n|- root_dir               -> FODB/\\n   |- dir                 -> FODB/D01_Motorola_E3_1/\\n      |- sub_dir          -> FODB/D01_Motorola_E3_1/orig/\\n         |- image         -> FODB/D01_Motorola_E3_1/orig/D01_img_orig_0001.jpg\\n         |- ...\\n      |- ...\\n   |- ...\\n\\n'"
            ],
            "application/vnd.google.colaboratory.intrinsic+json": {
              "type": "string"
            }
          },
          "metadata": {},
          "execution_count": 16
        }
      ]
    },
    {
      "cell_type": "code",
      "source": [
        "# mkdir train_set and test_set\n",
        "\n",
        "import os\n",
        "import cv2\n",
        "\n",
        "\n",
        "photo_type = \"orig\"\n",
        "\n",
        "train_path = \"/content/drive/MyDrive/Dataset/FODB/Train/orig_64\"\n",
        "test_path = \"/content/drive/MyDrive/Dataset/FODB/Test/orig_64\"\n",
        "\n",
        "root_path = \"/content/drive/MyDrive/Dataset/FODB\"\n",
        "root_dir = os.walk(root_path)\n",
        "\n",
        "for dir_path_1, dir_list_1, file_list_1 in root_dir:\n",
        "  for dir_1 in dir_list_1:\n",
        "    dir_path = os.path.join(dir_path_1, dir_1)\n",
        "    dir = os.walk(dir_path)\n",
        "    for dir_path_2, dir_list_2, file_list_2 in dir:\n",
        "      for dir_2 in dir_list_2:\n",
        "        if dir_2 == \"orig\":\n",
        "          sub_dir_path = os.path.join(dir_path_2, dir_2)\n",
        "          sub_dir = os.walk(sub_dir_path)\n",
        "          for dir_path_3, dir_list_3, image_list in sub_dir:\n",
        "           print(dir_1)\n",
        "           print(\"train:\")\n",
        "           for image in image_list[0:100]:\n",
        "              image_path = os.path.join(sub_dir_path, image)\n",
        "              img = cv2.imread(image_path)\n",
        "              middle_point = [int(img.shape[0]/2), int(img.shape[1]/2)]\n",
        "              cropped = img[middle_point[0] - 32 : middle_point[0] + 32, middle_point[1] - 32 : middle_point[1] + 32]\n",
        "              save_path = os.path.join(train_path, image)\n",
        "              print(save_path)\n",
        "              cv2.imwrite(save_path, cropped)\n",
        "           print(\"test:\")\n",
        "           for image in image_list[100:]:\n",
        "              image_path = os.path.join(sub_dir_path, image)\n",
        "              img = cv2.imread(image_path)\n",
        "              middle_point = [int(img.shape[0]/2), int(img.shape[1]/2)]\n",
        "              cropped = img[middle_point[0] - 32 : middle_point[0] + 32, middle_point[1] - 32 : middle_point[1] + 32]\n",
        "              print(save_path)\n",
        "              save_path = os.path.join(test_path, image)\n",
        "              cv2.imwrite(save_path, cropped)"
      ],
      "metadata": {
        "id": "90QnD3ONQIXK"
      },
      "execution_count": null,
      "outputs": []
    },
    {
      "cell_type": "markdown",
      "source": [
        "# Make Label"
      ],
      "metadata": {
        "id": "o-8UiVXUsDpL"
      }
    },
    {
      "cell_type": "code",
      "source": [
        "train_path = \"/content/drive/MyDrive/Dataset/FODB/Train/orig_64\"\n",
        "train_dir = os.walk(train_path)\n",
        "\n",
        "for dir_path, dir_list, image_list in train_dir:\n",
        "  print(len(image_list))\n",
        "  "
      ],
      "metadata": {
        "colab": {
          "base_uri": "https://localhost:8080/"
        },
        "id": "T7IeZzj0rlYC",
        "outputId": "872fdc29-64c4-4574-d0e4-81a0590f2f97"
      },
      "execution_count": null,
      "outputs": [
        {
          "output_type": "stream",
          "name": "stdout",
          "text": [
            "2700\n"
          ]
        }
      ]
    },
    {
      "cell_type": "markdown",
      "source": [
        "# Model"
      ],
      "metadata": {
        "id": "-ls963fGrQJe"
      }
    },
    {
      "cell_type": "code",
      "source": [
        "# utils/mypath.py\n",
        "import os"
      ],
      "metadata": {
        "id": "t2CEOP8Cn0Ok"
      },
      "execution_count": null,
      "outputs": []
    },
    {
      "cell_type": "code",
      "source": [
        "class Dataset_path(object):\n",
        "  def db_root_dir(database=''):\n",
        "    db_names = {'FODB'}\n",
        "    assert(database in db_names)\n",
        "\n",
        "    if database == 'FODB':\n",
        "      return \"/content/drive/MyDrive/Dataset/FODB\""
      ],
      "metadata": {
        "id": "ur4HEAIJoDLq"
      },
      "execution_count": null,
      "outputs": []
    },
    {
      "cell_type": "code",
      "execution_count": null,
      "metadata": {
        "id": "Ogb7cZd2TvfM"
      },
      "outputs": [],
      "source": [
        "# dataset.py\n",
        "import os\n",
        "import pickle\n",
        "import sys\n",
        "import numpy as np\n",
        "import torch\n",
        "from PIL import Image\n",
        "from torch.utils.data import Dataset\n",
        "from torchvision.datasets.utils import check_integrity, download_and_extract_archive"
      ]
    },
    {
      "cell_type": "code",
      "source": [
        "class FODB(Dataset):\n",
        "  \"\"\"`FODB<https://faui1-files.cs.fau.de/public/mmsec/datasets/fodb/>`\n",
        "    Args:\n",
        "      root:(string): Root directory of dataset where directory\n",
        "      train (bool, optional): If True, creates dataset from training set, otherwise\n",
        "            creates from test set.\n",
        "      transform (callable, optional): A function/transform that takes in an PIL image\n",
        "            and returns a transformed version. E.g, ``transforms.RandomCrop``\n",
        "  \"\"\"\n",
        "  def __init__(self, root = Dataset_path.db_root_dir('FODB'), train=True, transform=None):\n",
        "    super(FODB,self).__init__()\n",
        "    self.root = root\n",
        "    self.transform = transform\n",
        "    self.train = train\n",
        "    self.classes = ['D01_Motorola_E3_1', 'D02_LG_OptimusL50_1', 'D03_Wiko_Lenny2_1', 'D04_LG_G3_1', \n",
        "                    'D05_Apple_iPhone6s_1', 'D06_LG_G6_1', 'D07_Motorola_Z2Play_1', 'D08_Motorola_G8Plus_1', \n",
        "                    'D09_Samsung_GalaxyS4mini_1', 'D10_Samsung_GalaxyJ1_1', 'D11_Samsung_GalaxyJ3_1', 'D12_Samsung_GalaxyStar5280_1', \n",
        "                    'D13_Sony_XperiaE5_1', 'D14_Apple_iPhone3_1', 'D15_Samsung_GalaxyA6_1', 'D16_Samsung_GalaxyA6_2', \n",
        "                    'D17_Apple_iPhone7_1', 'D18_Samsung_GalaxyS4_1', 'D19_Apple_iPhone8Plus_1', 'D20_Google_Pixel3_1',\n",
        "                    'D21_Google_Nexus5_1', 'D22_BQ_AquarisX_1', 'D23_Huawei_P9lite_1', 'D24_Huawei_P8lite_1', \n",
        "                    'D25_Huawei_P9lite_2', 'D26_Huawei_P20lite_1', 'D27_Google_PixelXL_1']\n",
        "    if self.train:\n",
        "      data_list = self.train_list\n",
        "    else:\n",
        "      data_list = self.test_list\n",
        "  \n",
        "    self.data = []\n",
        "    self.target = []\n",
        "    for file_name, checksum in data_list:\n",
        "      file_path = os.path.join(self.root, self.base_folder, file_name)\n",
        "      with open(file_path, 'rb') as f:\n",
        "        if sys.version_info[0] == 2:\n",
        "          entry = pickle.load(f)\n",
        "        \n"
      ],
      "metadata": {
        "id": "1xYIeU5_kI3l"
      },
      "execution_count": null,
      "outputs": []
    }
  ]
}